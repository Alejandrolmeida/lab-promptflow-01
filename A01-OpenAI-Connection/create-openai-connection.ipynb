{
 "cells": [
  {
   "cell_type": "code",
   "execution_count": 1,
   "metadata": {},
   "outputs": [],
   "source": [
    "import os\n",
    "from pathlib import Path\n",
    "\n",
    "from promptflow.client import PFClient\n",
    "from promptflow.entities import (\n",
    "    AzureOpenAIConnection,\n",
    "    CustomConnection,\n",
    "    CognitiveSearchConnection,\n",
    ")\n",
    "from dotenv import load_dotenv\n",
    "\n",
    "load_dotenv(\"../.env\")\n",
    "\n",
    "pf = PFClient()"
   ]
  },
  {
   "cell_type": "code",
   "execution_count": 2,
   "metadata": {},
   "outputs": [
    {
     "name": "stdout",
     "output_type": "stream",
     "text": [
      "Creating connection oai_lab_promptflow...\n",
      "auth_mode: key\n",
      "name: oai_lab_promptflow\n",
      "module: promptflow.connections\n",
      "created_date: '2024-11-28T05:42:00.550951'\n",
      "last_modified_date: '2024-11-28T05:42:00.550951'\n",
      "type: azure_open_ai\n",
      "api_key: '******'\n",
      "api_base: https://ai-pflab01.openai.azure.com/\n",
      "api_type: azure\n",
      "api_version: 2024-02-15-preview\n",
      "\n"
     ]
    }
   ],
   "source": [
    "# Create local Azure OpenAI Connection\n",
    "AI_KEY= os.environ[\"AZURE_AI_SERVICES_KEY\"]\n",
    "AI_ENDPOINT= os.environ[\"AZURE_AI_SERVICES_ENDPOINT\"]\n",
    "AI_VERSION= os.environ[\"AZURE_AI_SERVICES_VERSION\"]\n",
    "\n",
    "connection = AzureOpenAIConnection(\n",
    "    name=\"oai_lab_promptflow\",\n",
    "    api_key=AI_KEY,\n",
    "    api_base=AI_ENDPOINT,\n",
    "    api_type=\"azure\",\n",
    "    api_version=AI_VERSION,\n",
    ")\n",
    "\n",
    "print(f\"Creating connection {connection.name}...\")\n",
    "result = pf.connections.create_or_update(connection)\n",
    "print(result)"
   ]
  }
 ],
 "metadata": {
  "kernelspec": {
   "display_name": "azureai",
   "language": "python",
   "name": "python3"
  },
  "language_info": {
   "codemirror_mode": {
    "name": "ipython",
    "version": 3
   },
   "file_extension": ".py",
   "mimetype": "text/x-python",
   "name": "python",
   "nbconvert_exporter": "python",
   "pygments_lexer": "ipython3",
   "version": "3.10.13"
  }
 },
 "nbformat": 4,
 "nbformat_minor": 2
}
