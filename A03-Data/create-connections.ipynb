{
 "cells": [
  {
   "cell_type": "code",
   "execution_count": 1,
   "metadata": {},
   "outputs": [],
   "source": [
    "import os\n",
    "from pathlib import Path\n",
    "\n",
    "from promptflow.client import PFClient\n",
    "from promptflow.entities import (\n",
    "    AzureOpenAIConnection,\n",
    "    CustomConnection,\n",
    "    CognitiveSearchConnection,\n",
    ")\n",
    "from dotenv import load_dotenv\n",
    "\n",
    "load_dotenv(\"../.env\")\n",
    "\n",
    "pf = PFClient()"
   ]
  },
  {
   "cell_type": "code",
   "execution_count": 3,
   "metadata": {},
   "outputs": [
    {
     "name": "stdout",
     "output_type": "stream",
     "text": [
      "Creating connection cosmos_lab_promptflow...\n",
      "name: cosmos_lab_promptflow\n",
      "module: promptflow.connections\n",
      "created_date: '2024-11-28T05:43:37.607479'\n",
      "last_modified_date: '2024-11-28T05:43:44.361730'\n",
      "type: custom\n",
      "configs:\n",
      "  endpoint: https://cosmos-pflab01.documents.azure.com:443/\n",
      "  databaseId: Clients\n",
      "secrets:\n",
      "  key: '******'\n",
      "\n"
     ]
    }
   ],
   "source": [
    "# Create the local azqr-cosmos connection\n",
    "COSMOS_ENDPOINT = os.environ[\"COSMOS_ENDPOINT\"]\n",
    "COSMOS_KEY = os.environ[\"COSMOS_KEY\"]\n",
    "DATABASE_ID = \"Clients\"\n",
    "\n",
    "connection = CustomConnection(\n",
    "    name=\"cosmos_lab_promptflow\",\n",
    "    configs={\n",
    "        \"endpoint\": COSMOS_ENDPOINT,\n",
    "        \"databaseId\": DATABASE_ID\n",
    "    },\n",
    "    secrets={\"key\": COSMOS_KEY},\n",
    ")\n",
    "\n",
    "print(f\"Creating connection {connection.name}...\")\n",
    "result = pf.connections.create_or_update(connection)\n",
    "print(result)"
   ]
  },
  {
   "cell_type": "code",
   "execution_count": 4,
   "metadata": {},
   "outputs": [
    {
     "name": "stdout",
     "output_type": "stream",
     "text": [
      "Creating connection search_lab_promptflow...\n",
      "auth_mode: key\n",
      "name: search_lab_promptflow\n",
      "module: promptflow.connections\n",
      "created_date: '2024-11-28T05:44:35.856295'\n",
      "last_modified_date: '2024-11-28T05:44:35.856295'\n",
      "type: cognitive_search\n",
      "api_key: '******'\n",
      "api_base: https://search-pflab01.search.windows.net/\n",
      "api_version: 2024-02-15-preview\n",
      "\n"
     ]
    }
   ],
   "source": [
    "# Create the local azqr-search connection\n",
    "SEARCH_ENDPOINT = os.environ[\"AZURE_SEARCH_ENDPOINT\"]\n",
    "SEARCH_KEY = os.environ[\"AZURE_SEARCH_KEY\"]\n",
    "API_VERSION = os.environ[\"AZURE_AI_SERVICES_VERSION\"]\n",
    "\n",
    "connection = CognitiveSearchConnection(\n",
    "    name=\"search_lab_promptflow\",\n",
    "    api_key=SEARCH_KEY,\n",
    "    api_base=SEARCH_ENDPOINT,\n",
    "    api_version=API_VERSION,\n",
    ")\n",
    "\n",
    "print(f\"Creating connection {connection.name}...\")\n",
    "result = pf.connections.create_or_update(connection)\n",
    "print(result)"
   ]
  }
 ],
 "metadata": {
  "kernelspec": {
   "display_name": "azureai",
   "language": "python",
   "name": "python3"
  },
  "language_info": {
   "codemirror_mode": {
    "name": "ipython",
    "version": 3
   },
   "file_extension": ".py",
   "mimetype": "text/x-python",
   "name": "python",
   "nbconvert_exporter": "python",
   "pygments_lexer": "ipython3",
   "version": "3.10.13"
  }
 },
 "nbformat": 4,
 "nbformat_minor": 2
}
